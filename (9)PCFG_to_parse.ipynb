
Open In Colab

import nltk

# Download the necessary NLTK data
nltk.download('punkt')

# Define the CFG rules
grammar = nltk.CFG.fromstring("""
S -> NP VP
NP -> Det N
Det -> 'the'
N -> 'cat' | 'mouse'
VP -> V NP
V -> 'chased'
""")

# Create a ChartParser with the CFG
parser = nltk.ChartParser(grammar)

# Define the sentence as a list of lowercase words
sentence = ["the", "cat", "chased", "the", "mouse"]

# Parse the sentence
for tree in parser.parse(sentence):
    tree.pretty_print()

     
[nltk_data] Downloading package punkt to /root/nltk_data...
[nltk_data]   Unzipping tokenizers/punkt.zip.
              S                 
      ________|_____             
     |              VP          
     |         _____|___         
     NP       |         NP      
  ___|___     |      ___|____    
Det      N    V    Det       N  
 |       |    |     |        |   
the     cat chased the     mouse
