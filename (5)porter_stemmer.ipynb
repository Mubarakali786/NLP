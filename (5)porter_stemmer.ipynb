
Open In Colab

import nltk
from nltk.stem import PorterStemmer

nltk.download('punkt')

def apply_porter_stemmer(word_list):
    porter = PorterStemmer()
    stemmed_words = [porter.stem(word) for word in word_list]
    return stemmed_words

# Example usage
words_before_stemming = ["jumps", "jumping", "jumper", "jumped", "easily", "running", "flies", "flying", "flies"]

words_after_stemming = apply_porter_stemmer(words_before_stemming)

# Print before and after stemming
for before, after in zip(words_before_stemming, words_after_stemming):
    print(f"Before: {before}\tAfter: {after}")

     
[nltk_data] Downloading package punkt to /root/nltk_data...
[nltk_data]   Unzipping tokenizers/punkt.zip.
Before: jumps	After: jump
Before: jumping	After: jump
Before: jumper	After: jumper
Before: jumped	After: jump
Before: easily	After: easili
Before: running	After: run
Before: flies	After: fli
Before: flying	After: fli
Before: flies	After: fli
