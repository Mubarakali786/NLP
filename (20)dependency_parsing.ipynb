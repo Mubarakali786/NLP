
Open In Colab

import spacy

def dependency_parsing(sentence):
    # Load spaCy English language model
    nlp = spacy.load("en_core_web_sm")

    # Process the input sentence
    doc = nlp(sentence)

    # Extract dependency relations
    dependencies = [(token.text, token.dep_, token.head.text) for token in doc]

    return dependencies

# Example sentences
sentence1 = "John and Mary went to the store."
sentence2 = "The big brown dog chased the small black cat."

# Perform dependency parsing for each sentence
dependencies1 = dependency_parsing(sentence1)
dependencies2 = dependency_parsing(sentence2)

# Print the results
print("Dependencies for Sentence 1:")
for dep in dependencies1:
    print(f"{dep[0]} - {dep[1]} - {dep[2]}")

print("\nDependencies for Sentence 2:")
for dep in dependencies2:
    print(f"{dep[0]} - {dep[1]} - {dep[2]}")

     
Dependencies for Sentence 1:
John - nsubj - went
and - cc - John
Mary - conj - John
went - ROOT - went
to - prep - went
the - det - store
store - pobj - to
. - punct - went

Dependencies for Sentence 2:
The - det - dog
big - amod - dog
brown - amod - dog
dog - nsubj - chased
chased - ROOT - chased
the - det - cat
small - amod - cat
black - amod - cat
cat - dobj - chased
. - punct - chased
