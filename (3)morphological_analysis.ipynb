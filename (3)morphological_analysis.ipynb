
Open In Colab

import nltk
from nltk.tokenize import word_tokenize
from nltk.tag import pos_tag

nltk.download('punkt')
nltk.download('averaged_perceptron_tagger')

def morphological_analysis(sentence):
    tokens = word_tokenize(sentence)
    tagged_words = pos_tag(tokens)

    return tagged_words

# Example usage
sentence = "Unhappily, she ran quickly"
result = morphological_analysis(sentence)
print(result)

     
[nltk_data] Downloading package punkt to /root/nltk_data...
[nltk_data]   Unzipping tokenizers/punkt.zip.
[nltk_data] Downloading package averaged_perceptron_tagger to
[nltk_data]     /root/nltk_data...
[nltk_data]   Unzipping taggers/averaged_perceptron_tagger.zip.
[('Unhappily', 'RB'), (',', ','), ('she', 'PRP'), ('ran', 'VBD'), ('quickly', 'RB')]


     
