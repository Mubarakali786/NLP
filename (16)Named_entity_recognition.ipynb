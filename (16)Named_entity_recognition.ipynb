
Open In Colab

import spacy

# Load the English model "en_core_web_sm"
nlp = spacy.load("en_core_web_sm")

# Given sentences
sentences = [
    "Apple Inc. is headquartered in Cupertino, California, and its CEO, Tim Cook, often delivers keynote speeches.",
    "The Eiffel Tower in Paris, France, is a popular tourist attraction."
]

# Perform Named Entity Recognition (NER) for each sentence
for sentence in sentences:
    # Process the text using SpaCy
    doc = nlp(sentence)

    # Print named entities and their labels
    print("\nOriginal Sentence:", sentence)
    for ent in doc.ents:
        print(f"Entity: {ent.text}, Label: {ent.label_}")

     
Original Sentence: Apple Inc. is headquartered in Cupertino, California, and its CEO, Tim Cook, often delivers keynote speeches.
Entity: Apple Inc., Label: ORG
Entity: Cupertino, Label: GPE
Entity: California, Label: GPE
Entity: Tim Cook, Label: PERSON

Original Sentence: The Eiffel Tower in Paris, France, is a popular tourist attraction.
Entity: The Eiffel Tower, Label: FAC
Entity: Paris, Label: GPE
Entity: France, Label: GPE
